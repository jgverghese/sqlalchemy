{
 "cells": [
  {
   "cell_type": "code",
   "execution_count": null,
   "metadata": {},
   "outputs": [],
   "source": [
    "%matplotlib inline\n",
    "import matplotlib.pyplot as plt\n",
    "\n",
    "from matplotlib import style\n",
    "style.use('fivethirtyeight')\n",
    "# more styles can be found here: https://matplotlib.org/3.3.3/gallery/style_sheets/style_sheets_reference.html"
   ]
  },
  {
   "cell_type": "code",
   "execution_count": null,
   "metadata": {},
   "outputs": [],
   "source": [
    "import numpy as np\n",
    "import pandas as pd\n",
    "import datetime as dt\n",
    "from datetime import datetime"
   ]
  },
  {
   "cell_type": "markdown",
   "metadata": {},
   "source": [
    "# Prepare SQLAlchemy "
   ]
  },
  {
   "cell_type": "code",
   "execution_count": null,
   "metadata": {},
   "outputs": [],
   "source": [
    "# Python SQL toolkit and Object Relational Mapper\n",
    "import sqlalchemy\n",
    "from sqlalchemy import create_engine"
   ]
  },
  {
   "cell_type": "code",
   "execution_count": null,
   "metadata": {},
   "outputs": [],
   "source": [
    "# create engine to hawaii.sqlite\n",
    "engine = create_engine(\"sqlite:///hawaii.sqlite\")\n",
    "conn = engine.connect()"
   ]
  },
  {
   "cell_type": "markdown",
   "metadata": {},
   "source": [
    "# Exploratory Climate Analysis"
   ]
  },
  {
   "cell_type": "code",
   "execution_count": null,
   "metadata": {},
   "outputs": [],
   "source": [
    "# Design a query to retrieve the last 12 months of precipitation data and plot the results\n",
    "\n",
    "# Calculate the date 1 year ago from the last data point in the database\n",
    "\n",
    "# Perform a query to retrieve the data and precipitation scores\n",
    "query = f'''\n",
    "    SELECT \n",
    "        date,\n",
    "        AVG(prcp) as avg_prcp\n",
    "    FROM\n",
    "        measurement\n",
    "    WHERE\n",
    "        date >= (SELECT DATE(MAX(date),'-1 year') FROM measurement)\n",
    "    GROUP BY\n",
    "        date\n",
    "    ORDER BY \n",
    "        date\n",
    "'''\n",
    "\n",
    "# Save the query results as a Pandas DataFrame and set the index to the date column\n",
    "prcp_df = pd.read_sql(query, conn)\n",
    "\n",
    "# Convert the date column to date\n",
    "prcp_df['date'] = pd.to_datetime(prcp_df['date'])\n",
    "\n",
    "# Sort the dataframe by date\n",
    "prcp_df.sort_values('date')\n",
    "\n",
    "# Set the index to date\n",
    "prcp_df = prcp_df.set_index('date')"
   ]
  },
  {
   "cell_type": "code",
   "execution_count": null,
   "metadata": {},
   "outputs": [],
   "source": [
    "# Use Pandas Plotting with Matplotlib to plot the data\n",
    "prcp_df.plot()\n",
    "plt.xlabel(\"Date\")\n",
    "plt.ylabel(\"Inches\")"
   ]
  },
  {
   "cell_type": "code",
   "execution_count": null,
   "metadata": {},
   "outputs": [],
   "source": [
    "# Use Pandas to calcualte the summary statistics for the precipitation data\n",
    "prcp_df.describe()"
   ]
  },
  {
   "cell_type": "code",
   "execution_count": null,
   "metadata": {},
   "outputs": [],
   "source": [
    "# Design a query to show how many stations are available in this dataset?\n",
    "\n",
    "query = '''\n",
    "    SELECT\n",
    "        COUNT(station) AS station_count\n",
    "    FROM\n",
    "        station\n",
    "'''\n",
    "\n",
    "# Save the query results as a Pandas DataFrame and set the index to the date column\n",
    "session_df = pd.read_sql(query, conn)\n",
    "\n",
    "station_count = session_df['station_count'].values[0]\n",
    "\n",
    "station_count"
   ]
  },
  {
   "cell_type": "code",
   "execution_count": null,
   "metadata": {},
   "outputs": [],
   "source": [
    "# What are the most active stations? (i.e. what stations have the most rows)?\n",
    "# List the stations and the counts in descending order.\n",
    "\n",
    "query = '''\n",
    "    SELECT \n",
    "        s.station AS station_code,\n",
    "        s.name AS station_name\n",
    "        ,COUNT(*) AS station_count\n",
    "    FROM \n",
    "        measurement m\n",
    "        INNER JOIN station s \n",
    "        ON m.station = s.station\n",
    "    GROUP BY\n",
    "        s.station,\n",
    "        s.name\n",
    "    ORDER BY\n",
    "        station_count DESC\n",
    "'''\n",
    "\n",
    "active_stations_df = pd.read_sql(query, conn)\n",
    "\n",
    "active_stations_df.head()"
   ]
  },
  {
   "cell_type": "code",
   "execution_count": null,
   "metadata": {},
   "outputs": [],
   "source": [
    "# Using the most active station id from the previous query, calculate the lowest, highest, and average temperature.\n",
    "\n",
    "active_stations_df.sort_values('station_count', ascending=False, inplace=True)\n",
    "most_active_session = active_stations_df['station_code'].values[0]\n",
    "print(f'The most active session is: {most_active_session}')\n",
    "\n",
    "query = f'''\n",
    "    SELECT \n",
    "        MIN(tobs) AS lowest_temperature,\n",
    "        MAX(tobs) AS highest_temperature,\n",
    "        AVG(tobs) AS average_temperature\n",
    "    FROM\n",
    "        measurement\n",
    "    WHERE\n",
    "        station = '{most_active_session}'\n",
    "'''\n",
    "\n",
    "most_active_session_stats_df = pd.read_sql(query, conn)\n",
    "\n",
    "most_active_session_stats_df"
   ]
  },
  {
   "cell_type": "code",
   "execution_count": null,
   "metadata": {},
   "outputs": [],
   "source": [
    "# Using the most active station id\n",
    "# Query the last 12 months of temperature observation data for this station and plot the results as a histogram\n",
    "\n",
    "query = f'''\n",
    "    SELECT \n",
    "        tobs\n",
    "    FROM\n",
    "        measurement\n",
    "    WHERE\n",
    "        station = '{most_active_session}'\n",
    "        AND date >= (SELECT date((SELECT MAX(date) FROM measurement),'-1 year'))\n",
    "'''\n",
    "\n",
    "temp_obs_df = pd.read_sql(query, conn)\n",
    "\n",
    "temp_obs_df.plot.hist(bins=12)\n",
    "\n",
    "plt.xlabel(\"Temperature\")\n",
    "plt.tight_layout()"
   ]
  },
  {
   "cell_type": "markdown",
   "metadata": {},
   "source": [
    "## Part 3 - Data Analysis Assignment"
   ]
  },
  {
   "cell_type": "code",
   "execution_count": null,
   "metadata": {},
   "outputs": [],
   "source": [
    "start_date = datetime.strptime('2012-01-01', '%Y-%m-%d')\n",
    "end_date = datetime.strptime('2012-01-07', '%Y-%m-%d')"
   ]
  },
  {
   "cell_type": "code",
   "execution_count": null,
   "metadata": {},
   "outputs": [],
   "source": [
    "# This function called `calc_temps` will accept start date and end date in the format '%Y-%m-%d' \n",
    "# and return the minimum, maximum, and average temperatures for that range of dates\n",
    "def calc_temps(start_date, end_date):\n",
    "    \"\"\"TMIN, TAVG, and TMAX for a list of dates.\n",
    "    \n",
    "    Args:\n",
    "        start_date (string): A date string in the format %Y-%m-%d\n",
    "        end_date (string): A date string in the format %Y-%m-%d\n",
    "        \n",
    "    Returns:\n",
    "        TMIN, TAVE, and TMAX\n",
    "    \"\"\"\n",
    "    \n",
    "    query = f'''\n",
    "    SELECT \n",
    "        MIN(tobs),\n",
    "        MAX(tobs),\n",
    "        AVG(tobs)\n",
    "    FROM\n",
    "        measurement\n",
    "    WHERE\n",
    "        date BETWEEN '{start_date}' AND '{end_date}'\n",
    "    '''\n",
    "\n",
    "    temp_stats_df = pd.read_sql(query, conn)\n",
    "    \n",
    "    temp_stats = temp_stats_df.values[0]\n",
    "    \n",
    "    return temp_stats\n",
    "\n",
    "print(calc_temps(start_date, end_date))"
   ]
  },
  {
   "cell_type": "code",
   "execution_count": null,
   "metadata": {},
   "outputs": [],
   "source": [
    "# Use the function `calc_temps` to calculate the tmin, tavg, and tmax \n",
    "# for your trip using the previous year's data for those same dates.\n",
    "\n",
    "from datetime import datetime\n",
    "from dateutil.relativedelta import relativedelta\n",
    "\n",
    "start_date_last_year = start_date + relativedelta(years = -1)\n",
    "end_date_last_year = end_date + relativedelta(years = -1)\n",
    "\n",
    "tmin, tmax, tavg = calc_temps(start_date_last_year.strftime(\"%Y-%m-%d\"), end_date_last_year.strftime(\"%Y-%m-%d\"))\n",
    "\n",
    "print(f'Date range: {start_date_last_year} - {end_date_last_year}')\n",
    "\n",
    "print(f'''\n",
    "Min temp: {tmin}\n",
    "Max temp: {tmax}\n",
    "Avg Temp: {tavg}\n",
    "''')"
   ]
  },
  {
   "cell_type": "code",
   "execution_count": null,
   "metadata": {},
   "outputs": [],
   "source": [
    "# Plot the results from your previous query as a bar chart. \n",
    "# Use \"Trip Avg Temp\" as your Title\n",
    "# Use the average temperature for the y value\n",
    "# Use the peak-to-peak (tmax-tmin) value as the y error bar (yerr)\n",
    "\n",
    "fig, ax = plt.subplots()\n",
    "xpos = 1\n",
    "yerr = tmax-tmin\n",
    "\n",
    "bar = ax.bar(xpos, tmax, yerr=yerr, alpha=0.5, color='coral', align=\"center\")\n",
    "ax.set(xticks=range(xpos), xticklabels=\"a\", title=\"Trip Avg Temp\", ylabel=\"Temp (F)\")\n",
    "ax.margins(.2, .2)\n",
    "\n",
    "fig.tight_layout()"
   ]
  },
  {
   "cell_type": "code",
   "execution_count": null,
   "metadata": {},
   "outputs": [],
   "source": [
    "# Calculate the total amount of rainfall per weather station for your trip dates using the previous year's matching dates.\n",
    "# Sort this in descending order by precipitation amount and list the station, name, latitude, longitude, and elevation\n",
    "\n",
    "query = f'''\n",
    "    SELECT \n",
    "        s.station,\n",
    "        s.name,\n",
    "        s.latitude,\n",
    "        s.longitude,\n",
    "        s.elevation\n",
    "        ,sum(m.prcp) AS total_rainfall\n",
    "    FROM\n",
    "        measurement m\n",
    "        INNER JOIN station s\n",
    "        ON m.station = s.station\n",
    "    WHERE\n",
    "        m.date BETWEEN '{start_date_last_year}' AND '{end_date_last_year}'\n",
    "    GROUP BY\n",
    "        s.name\n",
    "    ORDER BY\n",
    "        total_rainfall DESC\n",
    "'''\n",
    "\n",
    "results_df = pd.read_sql(query, conn)\n",
    "results_df"
   ]
  },
  {
   "cell_type": "code",
   "execution_count": null,
   "metadata": {},
   "outputs": [],
   "source": [
    "# Use this function to calculate the daily normals \n",
    "# (i.e. the averages for tmin, tmax, and tavg for all historic data matching a specific month and day)\n",
    "\n",
    "def daily_normals(date):\n",
    "    \"\"\"Daily Normals.\n",
    "    \n",
    "    Args:\n",
    "        date (str): A date string in the format '%m-%d'\n",
    "        \n",
    "    Returns:\n",
    "        A list of tuples containing the daily normals, tmin, tavg, and tmax\n",
    "    \n",
    "    \"\"\"\n",
    "    \n",
    "    query = f'''\n",
    "        SELECT \n",
    "            *\n",
    "        FROM\n",
    "            measurement \n",
    "    '''\n",
    "\n",
    "    results_df = pd.read_sql(query, conn)\n",
    "\n",
    "    results_df['monthday'] = pd.to_datetime(results_df['date']).dt.strftime('%m-%d')\n",
    "\n",
    "    filtered_df = results_df.loc[results_df['monthday']==date]\n",
    "\n",
    "    group_df = filtered_df.groupby('monthday')\n",
    "\n",
    "    group_agg = group_df.agg({'tobs': ['min', 'max', 'mean']})\n",
    "    \n",
    "    daily_normals = list(group_agg.values[0])\n",
    "    \n",
    "    daily_normals.insert(0, date)\n",
    "    \n",
    "    return daily_normals\n",
    "\n",
    "daily_normals(\"01-01\")"
   ]
  },
  {
   "cell_type": "code",
   "execution_count": null,
   "metadata": {},
   "outputs": [],
   "source": [
    "# calculate the daily normals for your trip\n",
    "# push each tuple of calculations into a list called `normals`\n",
    "\n",
    "# Set the start and end date of the trip\n",
    "trip_start = '2018-01-01'\n",
    "trip_end = '2018-01-07'\n",
    "\n",
    "# Use the start and end date to create a range of dates\n",
    "trip_dates = pd.date_range(trip_start, trip_end, freq='D')\n",
    "\n",
    "# Stip off the year and save a list of %m-%d strings\n",
    "trip_month_day = trip_dates.strftime('%m-%d')\n",
    "\n",
    "# Loop through the list of %m-%d strings and calculate the normals for each date\n",
    "normals = []\n",
    "for date in trip_month_day:\n",
    "    normals.append(daily_normals(date))\n",
    "    \n",
    "normals"
   ]
  },
  {
   "cell_type": "code",
   "execution_count": null,
   "metadata": {},
   "outputs": [],
   "source": [
    "# Load the previous query results into a Pandas DataFrame and add the `trip_dates` range as the `date` index\n",
    "df = pd.DataFrame(normals, columns=['date', 'tmin', 'tavg', 'tmax'])\n",
    "df.set_index(['date'],inplace=True)\n",
    "df.head()"
   ]
  },
  {
   "cell_type": "code",
   "execution_count": null,
   "metadata": {},
   "outputs": [],
   "source": [
    "# Load the previous query results into a Pandas DataFrame and add the `trip_dates` range as the `date` index\n",
    "df = pd.DataFrame(normals, columns=['date','tmin', 'tavg', 'tmax'])\n",
    "df.set_index(['date'],inplace=True)\n",
    "df.head()"
   ]
  },
  {
   "cell_type": "code",
   "execution_count": null,
   "metadata": {},
   "outputs": [],
   "source": [
    "# Plot the daily normals as an area plot with `stacked=False`\n",
    "df.plot(kind='area', stacked=False, x_compat=True, alpha=.2)\n",
    "plt.tight_layout()\n",
    "plt.xlabel(\"Date\")\n",
    "plt.ylabel(\"Temperature\")"
   ]
  }
 ],
 "metadata": {
  "anaconda-cloud": {},
  "kernel_info": {
   "name": "python3"
  },
  "kernelspec": {
   "display_name": "Python 3",
   "language": "python",
   "name": "python3"
  },
  "language_info": {
   "codemirror_mode": {
    "name": "ipython",
    "version": 3
   },
   "file_extension": ".py",
   "mimetype": "text/x-python",
   "name": "python",
   "nbconvert_exporter": "python",
   "pygments_lexer": "ipython3",
   "version": "3.7.4"
  },
  "nteract": {
   "version": "0.12.3"
  },
  "varInspector": {
   "cols": {
    "lenName": 16,
    "lenType": 16,
    "lenVar": 40
   },
   "kernels_config": {
    "python": {
     "delete_cmd_postfix": "",
     "delete_cmd_prefix": "del ",
     "library": "var_list.py",
     "varRefreshCmd": "print(var_dic_list())"
    },
    "r": {
     "delete_cmd_postfix": ") ",
     "delete_cmd_prefix": "rm(",
     "library": "var_list.r",
     "varRefreshCmd": "cat(var_dic_list()) "
    }
   },
   "types_to_exclude": [
    "module",
    "function",
    "builtin_function_or_method",
    "instance",
    "_Feature"
   ],
   "window_display": false
  }
 },
 "nbformat": 4,
 "nbformat_minor": 2
}
